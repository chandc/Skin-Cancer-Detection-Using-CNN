{
 "cells": [
  {
   "cell_type": "code",
   "execution_count": 1,
   "metadata": {},
   "outputs": [
    {
     "name": "stderr",
     "output_type": "stream",
     "text": [
      "/home/danielchan/anaconda3/lib/python3.6/site-packages/h5py/__init__.py:36: FutureWarning: Conversion of the second argument of issubdtype from `float` to `np.floating` is deprecated. In future, it will be treated as `np.float64 == np.dtype(float).type`.\n",
      "  from ._conv import register_converters as _register_converters\n",
      "Using TensorFlow backend.\n"
     ]
    }
   ],
   "source": [
    "import numpy as np\n",
    "from keras.preprocessing.image import ImageDataGenerator\n",
    "from keras.models import Sequential\n",
    "from keras.layers import Convolution2D, MaxPooling2D, ZeroPadding2D\n",
    "from keras.layers import Activation, Dropout, Flatten, Dense,GlobalAveragePooling2D, Input\n",
    "from keras.optimizers import SGD, RMSprop, Adam\n",
    "from keras.models import Model\n",
    "from keras.layers.normalization import BatchNormalization\n",
    "from keras import regularizers\n",
    "from sklearn.utils.class_weight import compute_class_weight\n",
    "\n",
    "\n",
    "from keras.callbacks import ModelCheckpoint, EarlyStopping\n",
    "\n",
    "from time import time\n",
    "\n",
    "import matplotlib.pyplot as plt\n",
    "\n",
    "np.random.seed(617)"
   ]
  },
  {
   "cell_type": "code",
   "execution_count": 2,
   "metadata": {},
   "outputs": [],
   "source": [
    "import tensorflow as tf\n",
    "from keras.backend.tensorflow_backend import set_session\n",
    "config = tf.ConfigProto()\n",
    "config.gpu_options.per_process_gpu_memory_fraction = 0.8\n",
    "config.gpu_options.visible_device_list = \"0\"\n",
    "set_session(tf.Session(config=config))"
   ]
  },
  {
   "cell_type": "code",
   "execution_count": 3,
   "metadata": {},
   "outputs": [],
   "source": [
    "def vgg16_model():\n",
    "    from keras.applications.vgg16 import VGG16\n",
    "    from keras.applications.vgg16 import preprocess_input\n",
    "    img_width, img_height = 224,224\n",
    "    print ('using the VGG16 model')\n",
    "    input_shape=(img_width, img_height, 3)\n",
    "    img_input = Input(shape=input_shape)\n",
    "    base_model = VGG16(include_top=False, weights='imagenet', input_tensor=img_input)\n",
    "    print('VGG16 model loaded')\n",
    "    return base_model, img_width, img_height, preprocess_input"
   ]
  },
  {
   "cell_type": "code",
   "execution_count": 4,
   "metadata": {},
   "outputs": [],
   "source": [
    "def resnet50_model():\n",
    "    from keras.applications.resnet50 import ResNet50\n",
    "    from keras.applications.resnet50 import preprocess_input\n",
    "    img_width, img_height = 224,224\n",
    "    print ('using the ResNet50 model')\n",
    "    input_shape=(img_width, img_height, 3)\n",
    "    img_input = Input(shape=input_shape)\n",
    "    base_model = ResNet50(include_top=False, weights='imagenet', input_tensor=img_input)\n",
    "    print('ResNet50 model loaded')\n",
    "    return base_model, img_width, img_height, preprocess_input"
   ]
  },
  {
   "cell_type": "markdown",
   "metadata": {},
   "source": [
    "Let find out which version of Keras we are running"
   ]
  },
  {
   "cell_type": "code",
   "execution_count": 5,
   "metadata": {},
   "outputs": [
    {
     "name": "stdout",
     "output_type": "stream",
     "text": [
      "2.2.0\n"
     ]
    }
   ],
   "source": [
    "import keras\n",
    "\n",
    "print(keras.__version__)"
   ]
  },
  {
   "cell_type": "code",
   "execution_count": 6,
   "metadata": {},
   "outputs": [],
   "source": [
    "def history_plot(history):\n",
    "\n",
    "    %matplotlib inline\n",
    "\n",
    "#_, (ax1, ax2) = plt.subplots(1, 2, sharey=True)\n",
    "    fig, (ax1, ax2) = plt.subplots(1, 2)\n",
    "\n",
    "    fig.tight_layout()\n",
    "    ax1.grid(True)\n",
    "    ax2.grid(True)\n",
    "    ax1.plot(history.history['acc'])\n",
    "    ax1.plot(history.history['val_acc'])\n",
    "    ax1.set_title('model accuracy')\n",
    "    ax1.set_ylabel('accuracy')\n",
    "    ax1.set_xlabel('epoch')\n",
    "    ax1.legend(['train', 'validation'], loc='best')\n",
    "\n",
    "    ax2.plot(history.history['loss'])\n",
    "    ax2.plot(history.history['val_loss'])\n",
    "    ax2.set_title('model loss')\n",
    "    ax2.set_ylabel('loss')\n",
    "    ax2.set_xlabel('epoch')\n",
    "    ax2.legend(['train', 'validation'], loc='best')\n",
    "\n",
    "    plt.show()\n",
    "    fig.savefig('history_VGG_fine_tune_plots.jpeg',dpi=600)\n",
    "\n",
    "    return\n"
   ]
  },
  {
   "cell_type": "code",
   "execution_count": 7,
   "metadata": {},
   "outputs": [],
   "source": [
    "def load_model(Top_load=False, Big_load=False):\n",
    "# dimensions of our images.\n",
    "\n",
    "   print (num_class)\n",
    "\n",
    "   #num_class = 3\n",
    "   #base_model, img_width, img_height, preprocess_input=resnet50_model()\n",
    "   base_model, img_width, img_height, preprocess_input=vgg16_model()\n",
    "\n",
    "# build a classifier model to put on top of the convolutional model\n",
    "\n",
    "   top_model = Sequential()\n",
    "   top_model.add(Flatten(input_shape=base_model.output_shape[1:]))\n",
    "   top_model.add(Dense(1024, activation='relu',\n",
    "                       kernel_initializer='he_normal',\n",
    "                       kernel_regularizer=regularizers.l2(reg_fac)))\n",
    "   top_model.add(BatchNormalization())\n",
    "   top_model.add(Dense(num_class, activation='softmax'))\n",
    "    \n",
    "   # included a different style of constructing the top and base models for reference\n",
    "   #x = base_model.output\n",
    "   #x = Flatten()(x)\n",
    "   #x = Dense(1024, activation='relu',kernel_regularizer=regularizers.l2(reg_fac))(x)\n",
    "   #x = BatchNormalization()(x)\n",
    "   #top_layer = Dense(num_class, activation='softmax')(x)\n",
    "\n",
    "   #top_model.add(GlobalAveragePooling2D(input_shape=base_model.output_shape[1:]))\n",
    "   #top_model.add(Dense(1024, activation='relu'))\n",
    "   #top_model.add(BatchNormalization())\n",
    "   #top_model.add(Dense(1024, activation='relu'))\n",
    "   #top_model.add(BatchNormalization())\n",
    "   #top_model.add(Dense(num_class, activation='softmax'))\n",
    "\n",
    "# note that it is necessary to start with a fully-trained\n",
    "# classifier, including the top classifier,\n",
    "# in order to successfully do fine-tuning\n",
    "\n",
    "   if (Top_load):\n",
    "        top_model.load_weights(Top_Model_Weights_File)\n",
    "        print (\"loaded the weights for top layers\")\n",
    "   \n",
    "\n",
    "   #model = Model(inputs=base_model.input, outputs=top_layer)\n",
    "   model = Model(inputs=base_model.input, outputs=top_model(base_model.output))\n",
    "\n",
    "   if (Big_load):\n",
    "        model.load_weights(Full_Model_Weights_File)\n",
    "        print (\"loaded the weights for the entire model\")\n",
    "       \n",
    "\n",
    "   return model,img_width, img_height,preprocess_input\n",
    "\n"
   ]
  },
  {
   "cell_type": "code",
   "execution_count": 8,
   "metadata": {},
   "outputs": [],
   "source": [
    "from clr_callback import CyclicLR\n",
    "from lr_finder import LRFinder\n",
    "from sgdr import SGDRScheduler"
   ]
  },
  {
   "cell_type": "code",
   "execution_count": 9,
   "metadata": {},
   "outputs": [],
   "source": [
    "\n",
    "def train_model(nb_batch=32,epochs=50,lr=1.e-5, \n",
    "                start_layer=15, Top_load=False, Big_load=False, CLR=True):\n",
    "\n",
    "   nb_epoch = epochs\n",
    "   batch_train = nb_batch\n",
    "   batch_valid = nb_batch\n",
    "\n",
    "   model,img_width,img_height,preprocess_input = load_model(Top_load=Top_load,\n",
    "                                                            Big_load=Big_load)\n",
    "\n",
    "   for layer in model.layers:\n",
    "       layer.trainable = False\n",
    "\n",
    "   for layer in model.layers[start_layer:]:\n",
    "      layer.trainable = True\n",
    "\n",
    "   for i, layer in enumerate(model.layers):\n",
    "      print(i, layer.name, layer.trainable)\n",
    "\n",
    "\n",
    "   model.compile(optimizer=SGD(lr=lr,momentum=0.8), loss='categorical_crossentropy', metrics=['accuracy']) \n",
    "\n",
    "   #train_data_dir='/home/danielchan/Downloads/Training_Data_Sq_orig'\n",
    "   #validation_data_dir='/home/danielchan/Downloads/Test_Data_Sq_orig'\n",
    "\n",
    "#define preprocessing function\n",
    "#\n",
    "#convert images from RGB to BGR so we can use the weights from Caffe simulation    \n",
    "\n",
    "   datagen = ImageDataGenerator(preprocessing_function=preprocess_input)\n",
    "  \n",
    "\n",
    "   train_generator = datagen.flow_from_directory(\n",
    "            train_data_dir,\n",
    "            target_size=(img_width, img_height),\n",
    "            class_mode='categorical',\n",
    "            batch_size=batch_train,\n",
    "            shuffle=True)\n",
    "\n",
    "   valid_generator = datagen.flow_from_directory(\n",
    "            validation_data_dir,\n",
    "            target_size=(img_width, img_height),\n",
    "            class_mode='categorical',\n",
    "            batch_size=batch_valid,\n",
    "            shuffle=False)\n",
    "\n",
    "   \n",
    "   nb_train_samples = len(train_generator.classes)\n",
    "   nb_validation_samples = len(valid_generator.classes)\n",
    "    \n",
    "   train_size = np.int( np.ceil(nb_train_samples/batch_train) )\n",
    "   valid_size = np.int( np.ceil(nb_validation_samples/batch_valid) )\n",
    "\n",
    "   print(nb_train_samples,nb_validation_samples,train_size,valid_size)\n",
    "\n",
    "\n",
    "\n",
    "# checkpoint\n",
    "\n",
    "   callbacks_list = []\n",
    "    \n",
    "   filepath=\"added_images_VGG16_weights.best\"+\".hdf5\"\n",
    "   checkpoint = ModelCheckpoint(filepath, monitor='val_acc', verbose=1, \n",
    "                                save_best_only=True, mode='auto')\n",
    "   callbacks_list.append(checkpoint)\n",
    "\n",
    "   earlystop = EarlyStopping(monitor='val_acc', min_delta=0.1, patience=10, \\\n",
    "                          verbose=1, mode='auto')    \n",
    "   #callbacks_list.append(earlystop) \n",
    "    \n",
    "   clr = CyclicLR(base_lr=lower_lr, max_lr=upper_lr,\n",
    "                       step_size=np.int(ncyle*np.ceil(nb_train_samples/batch_train)), \n",
    "                       mode='triangular')\n",
    "   callbacks_list.append(clr) \n",
    "\n",
    "   wc = {0: 1.7825311942959001, 1: 0.4859086491739553, 2: 2.6246719160104988}\n",
    "   wc = None\n",
    "    \n",
    "   history = model.fit_generator(\n",
    "        train_generator,\n",
    "        steps_per_epoch=train_size,\n",
    "        epochs=nb_epoch,\n",
    "        verbose=2,\n",
    "        validation_data=valid_generator,\n",
    "        validation_steps=valid_size,callbacks=callbacks_list,\n",
    "        class_weight=wc,\n",
    "        workers=8, use_multiprocessing=True)\n",
    "\n",
    "\n",
    "   #valid_generator.reset()\n",
    "   #probs=model.predict_generator(valid_generator,verbose=1)\n",
    "   \n",
    "   return history,model\n"
   ]
  },
  {
   "cell_type": "code",
   "execution_count": 10,
   "metadata": {
    "scrolled": true
   },
   "outputs": [
    {
     "name": "stdout",
     "output_type": "stream",
     "text": [
      "3\n",
      "using the VGG16 model\n",
      "VGG16 model loaded\n",
      "loaded the weights for the entire model\n",
      "0 input_1 False\n",
      "1 block1_conv1 True\n",
      "2 block1_conv2 True\n",
      "3 block1_pool True\n",
      "4 block2_conv1 True\n",
      "5 block2_conv2 True\n",
      "6 block2_pool True\n",
      "7 block3_conv1 True\n",
      "8 block3_conv2 True\n",
      "9 block3_conv3 True\n",
      "10 block3_pool True\n",
      "11 block4_conv1 True\n",
      "12 block4_conv2 True\n",
      "13 block4_conv3 True\n",
      "14 block4_pool True\n",
      "15 block5_conv1 True\n",
      "16 block5_conv2 True\n",
      "17 block5_conv3 True\n",
      "18 block5_pool True\n",
      "19 sequential_1 True\n",
      "Found 5000 images belonging to 3 classes.\n",
      "Found 600 images belonging to 3 classes.\n",
      "5000 600 157 19\n",
      "Epoch 1/1\n",
      " - 47s - loss: 1.2198 - acc: 1.0000 - val_loss: 2.7988 - val_acc: 0.7100\n",
      "\n",
      "Epoch 00001: val_acc improved from -inf to 0.71000, saving model to added_images_VGG16_weights.best.hdf5\n",
      "time to train the model:  49.159061670303345\n"
     ]
    }
   ],
   "source": [
    "### beginning input parameters\n",
    "\n",
    "Top_Model_Weights_File = \"Sq_orig_added_images_top_model_weights_RES50\"\n",
    "Full_Model_Weights_File = \"Sq_orig_added_images_full_model_weights_RES50\"\n",
    "\n",
    "Top_Model_Weights_File = \"Sq_orig_added_images_top_model_weights_VGG16\"\n",
    "Full_Model_Weights_File = \"Sq_orig_added_images_full_model_weights_VGG16_layer7\"\n",
    "Full_Model_Weights_File = \"added_images_VGG16_weights.best.hdf5\"\n",
    "output_file = \"Sq_orig_added_images_full_model_weights_VGG16_layers1\"\n",
    "\n",
    "train_data_dir='/home/danielchan/Downloads/Training_Data_Sq_orig_added_images'\n",
    "validation_data_dir='/home/danielchan/Downloads/Test_Data_Sq_orig'\n",
    "num_class = 3\n",
    "lower_lr = 1.e-4\n",
    "upper_lr = 1.e-3\n",
    "ncyle = 8\n",
    "reg_fac = 7e-4\n",
    "\n",
    "### end of input parameters\n",
    "\n",
    "start = time()\n",
    "history,model=train_model(nb_batch=32,epochs=1,start_layer=1,Top_load=False, Big_load=True)\n",
    "print ('time to train the model: ',time()-start)\n",
    "\n",
    "model.save_weights(output_file) \n"
   ]
  },
  {
   "cell_type": "code",
   "execution_count": 11,
   "metadata": {
    "scrolled": true
   },
   "outputs": [
    {
     "data": {
      "image/png": "[encoded data removed]",
      "text/plain": [
       "<matplotlib.figure.Figure at 0x7f9423d1b240>"
      ]
     },
     "metadata": {},
     "output_type": "display_data"
    }
   ],
   "source": [
    "history_plot(history)"
   ]
  },
  {
   "cell_type": "code",
   "execution_count": 12,
   "metadata": {},
   "outputs": [
    {
     "name": "stdout",
     "output_type": "stream",
     "text": [
      "_________________________________________________________________\n",
      "Layer (type)                 Output Shape              Param #   \n",
      "=================================================================\n",
      "input_1 (InputLayer)         (None, 224, 224, 3)       0         \n",
      "_________________________________________________________________\n",
      "block1_conv1 (Conv2D)        (None, 224, 224, 64)      1792      \n",
      "_________________________________________________________________\n",
      "block1_conv2 (Conv2D)        (None, 224, 224, 64)      36928     \n",
      "_________________________________________________________________\n",
      "block1_pool (MaxPooling2D)   (None, 112, 112, 64)      0         \n",
      "_________________________________________________________________\n",
      "block2_conv1 (Conv2D)        (None, 112, 112, 128)     73856     \n",
      "_________________________________________________________________\n",
      "block2_conv2 (Conv2D)        (None, 112, 112, 128)     147584    \n",
      "_________________________________________________________________\n",
      "block2_pool (MaxPooling2D)   (None, 56, 56, 128)       0         \n",
      "_________________________________________________________________\n",
      "block3_conv1 (Conv2D)        (None, 56, 56, 256)       295168    \n",
      "_________________________________________________________________\n",
      "block3_conv2 (Conv2D)        (None, 56, 56, 256)       590080    \n",
      "_________________________________________________________________\n",
      "block3_conv3 (Conv2D)        (None, 56, 56, 256)       590080    \n",
      "_________________________________________________________________\n",
      "block3_pool (MaxPooling2D)   (None, 28, 28, 256)       0         \n",
      "_________________________________________________________________\n",
      "block4_conv1 (Conv2D)        (None, 28, 28, 512)       1180160   \n",
      "_________________________________________________________________\n",
      "block4_conv2 (Conv2D)        (None, 28, 28, 512)       2359808   \n",
      "_________________________________________________________________\n",
      "block4_conv3 (Conv2D)        (None, 28, 28, 512)       2359808   \n",
      "_________________________________________________________________\n",
      "block4_pool (MaxPooling2D)   (None, 14, 14, 512)       0         \n",
      "_________________________________________________________________\n",
      "block5_conv1 (Conv2D)        (None, 14, 14, 512)       2359808   \n",
      "_________________________________________________________________\n",
      "block5_conv2 (Conv2D)        (None, 14, 14, 512)       2359808   \n",
      "_________________________________________________________________\n",
      "block5_conv3 (Conv2D)        (None, 14, 14, 512)       2359808   \n",
      "_________________________________________________________________\n",
      "block5_pool (MaxPooling2D)   (None, 7, 7, 512)         0         \n",
      "_________________________________________________________________\n",
      "sequential_1 (Sequential)    (None, 3)                 25698307  \n",
      "=================================================================\n",
      "Total params: 40,412,995\n",
      "Trainable params: 40,410,947\n",
      "Non-trainable params: 2,048\n",
      "_________________________________________________________________\n"
     ]
    }
   ],
   "source": [
    "model.summary()"
   ]
  },
  {
   "cell_type": "code",
   "execution_count": 13,
   "metadata": {},
   "outputs": [
    {
     "name": "stdout",
     "output_type": "stream",
     "text": [
      "Found 600 images belonging to 3 classes.\n",
      "600 5\n"
     ]
    }
   ],
   "source": [
    "from keras.applications.vgg16 import preprocess_input\n",
    "\n",
    "#validation_data_dir='/home/danielchan/Dropbox/ISIC2017/ISIC-2017_Test_Data'\n",
    "batch = 128\n",
    "img_width, img_height = 224,224\n",
    "\n",
    "datagen = ImageDataGenerator(preprocessing_function=preprocess_input)\n",
    "valid_generator = datagen.flow_from_directory(\n",
    "            validation_data_dir,\n",
    "            target_size=(img_width, img_height),\n",
    "            class_mode='categorical',\n",
    "            batch_size=batch,\n",
    "            shuffle=False)\n",
    "steps = np.int(np.ceil(len(valid_generator.classes)/batch))\n",
    "num_valid = len(valid_generator.classes)\n",
    "print (num_valid,steps)"
   ]
  },
  {
   "cell_type": "code",
   "execution_count": 14,
   "metadata": {},
   "outputs": [],
   "source": [
    "probs = model.predict_generator(valid_generator, steps=steps, \n",
    "                                max_queue_size=10, workers=4, use_multiprocessing=True)\n"
   ]
  },
  {
   "cell_type": "code",
   "execution_count": 15,
   "metadata": {},
   "outputs": [],
   "source": [
    "#validation_labels = np.argmax(labels[:,],axis=1)\n",
    "validation_labels = valid_generator.classes"
   ]
  },
  {
   "cell_type": "code",
   "execution_count": 16,
   "metadata": {
    "scrolled": true
   },
   "outputs": [
    {
     "data": {
      "image/png": "[encoded data removed]",
      "text/plain": [
       "<matplotlib.figure.Figure at 0x7f9140526cc0>"
      ]
     },
     "metadata": {},
     "output_type": "display_data"
    }
   ],
   "source": [
    "from sklearn.metrics import roc_curve, auc\n",
    "\n",
    "fpr, tpr, thresholds = roc_curve(validation_labels, probs[:,0], 0)\n",
    "roc_auc = auc(fpr, tpr)\n",
    "\n",
    "fig, (ax1,ax2) = plt.subplots(nrows=1, ncols=2)\n",
    "    \n",
    "ax1.set_ylabel('True Positive Rate')\n",
    "ax1.set_xlabel('False Positive Rate')\n",
    "ax1.plot(fpr,tpr,linewidth=2.0,label='AUC = %0.2f' % roc_auc)\n",
    "ax1.grid(True)\n",
    "ax1.legend(loc=\"lower right\")\n",
    "ax1.set_title(\"Melanoma AUC\")\n",
    "\n",
    "fpr, tpr, thresholds = roc_curve(validation_labels, probs[:,2], 2)\n",
    "roc_auc = auc(fpr, tpr)\n",
    "\n",
    "ax2.set_xlabel('False Positive Rate')\n",
    "ax2.plot(fpr,tpr,linewidth=2.0,label='AUC = %0.2f' % roc_auc)\n",
    "\n",
    "ax2.grid(True)\n",
    "ax2.legend(loc=\"lower right\")\n",
    "ax2.set_title(\"Seborrheic Keratosis AUC\")\n",
    "ax2.legend(loc=\"lower right\")\n",
    "\n",
    "plt.show()    \n",
    "\n",
    "fig.savefig('VGG16_finetune_AUC_plots.jpeg',dpi=600)"
   ]
  },
  {
   "cell_type": "code",
   "execution_count": 17,
   "metadata": {},
   "outputs": [
    {
     "data": {
      "text/plain": [
       "array([[ 62,  37,  18],\n",
       "       [ 42, 297,  54],\n",
       "       [  7,  16,  67]])"
      ]
     },
     "execution_count": 17,
     "metadata": {},
     "output_type": "execute_result"
    }
   ],
   "source": [
    "from sklearn.metrics import confusion_matrix\n",
    "\n",
    "confusion_matrix(validation_labels, np.argmax(probs[:,],axis=1))"
   ]
  },
  {
   "cell_type": "code",
   "execution_count": null,
   "metadata": {},
   "outputs": [],
   "source": []
  }
 ],
 "metadata": {
  "kernelspec": {
   "display_name": "Python 3",
   "language": "python",
   "name": "python3"
  },
  "language_info": {
   "codemirror_mode": {
    "name": "ipython",
    "version": 3
   },
   "file_extension": ".py",
   "mimetype": "text/x-python",
   "name": "python",
   "nbconvert_exporter": "python",
   "pygments_lexer": "ipython3",
   "version": "3.6.4"
  }
 },
 "nbformat": 4,
 "nbformat_minor": 2
}
