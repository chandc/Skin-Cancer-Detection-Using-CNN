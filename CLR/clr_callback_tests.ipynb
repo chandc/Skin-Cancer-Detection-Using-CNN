{
 "cells": [
  {
   "cell_type": "markdown",
   "metadata": {},
   "source": [
    "# CLR Callback"
   ]
  },
  {
   "cell_type": "code",
   "execution_count": 1,
   "metadata": {
    "scrolled": true
   },
   "outputs": [
    {
     "name": "stderr",
     "output_type": "stream",
     "text": [
      "/home/danielchan/anaconda3/lib/python3.6/site-packages/h5py/__init__.py:36: FutureWarning: Conversion of the second argument of issubdtype from `float` to `np.floating` is deprecated. In future, it will be treated as `np.float64 == np.dtype(float).type`.\n",
      "  from ._conv import register_converters as _register_converters\n",
      "Using TensorFlow backend.\n"
     ]
    }
   ],
   "source": [
    "from clr_callback import *\n",
    "from keras.optimizers import *"
   ]
  },
  {
   "cell_type": "markdown",
   "metadata": {},
   "source": [
    "## Test Set"
   ]
  },
  {
   "cell_type": "code",
   "execution_count": 2,
   "metadata": {},
   "outputs": [],
   "source": [
    "from keras.models import Sequential, Model\n",
    "from keras.layers import Dense, Activation, Input"
   ]
  },
  {
   "cell_type": "code",
   "execution_count": 15,
   "metadata": {},
   "outputs": [],
   "source": [
    "inp = Input(shape=(15,))                \n",
    "x = Dense(30, activation='relu')(inp)\n",
    "x = Dense(1, activation='sigmoid')(x)\n",
    "\n",
    "model = Model(inp, x)"
   ]
  },
  {
   "cell_type": "code",
   "execution_count": 16,
   "metadata": {},
   "outputs": [],
   "source": [
    "X = np.random.rand(2000000,15)"
   ]
  },
  {
   "cell_type": "code",
   "execution_count": 17,
   "metadata": {},
   "outputs": [],
   "source": [
    "Y = np.random.randint(0,2,size=2000000)"
   ]
  },
  {
   "cell_type": "code",
   "execution_count": 18,
   "metadata": {},
   "outputs": [
    {
     "data": {
      "text/plain": [
       "'\"\\n# use Holder table function, https://en.wikipedia.org/wiki/Test_functions_for_optimization\\n# x values are between -10 and 10\\nX = range(-10,10,)\\nY = -abs(sin(x0)*cos(x1)*exp(abs(1-sqrt(x0*x0+x1*x1)/np.pi)))\\n'"
      ]
     },
     "execution_count": 18,
     "metadata": {},
     "output_type": "execute_result"
    }
   ],
   "source": [
    "\"\"\"\"\n",
    "# use Holder table function, https://en.wikipedia.org/wiki/Test_functions_for_optimization\n",
    "# x values are between -10 and 10\n",
    "X = range(-10,10,)\n",
    "Y = -abs(sin(x0)*cos(x1)*exp(abs(1-sqrt(x0*x0+x1*x1)/np.pi)))\n",
    "\"\"\""
   ]
  },
  {
   "cell_type": "markdown",
   "metadata": {},
   "source": [
    "## Callback test"
   ]
  },
  {
   "cell_type": "code",
   "execution_count": 19,
   "metadata": {},
   "outputs": [],
   "source": [
    "%matplotlib inline\n",
    "import matplotlib.pyplot as plt"
   ]
  },
  {
   "cell_type": "code",
   "execution_count": 22,
   "metadata": {},
   "outputs": [
    {
     "name": "stdout",
     "output_type": "stream",
     "text": [
      "Epoch 1/100\n",
      "2000000/2000000 [==============================] - 2s - loss: 0.6931 - acc: 0.5026     \n",
      "Epoch 2/100\n",
      "2000000/2000000 [==============================] - 2s - loss: 0.6931 - acc: 0.5026     \n",
      "Epoch 3/100\n",
      "2000000/2000000 [==============================] - 2s - loss: 0.6931 - acc: 0.5026     \n",
      "Epoch 4/100\n",
      "2000000/2000000 [==============================] - 2s - loss: 0.6931 - acc: 0.5026     \n",
      "Epoch 5/100\n",
      "2000000/2000000 [==============================] - 2s - loss: 0.6931 - acc: 0.5026     \n",
      "Epoch 6/100\n",
      "2000000/2000000 [==============================] - 2s - loss: 0.6931 - acc: 0.5026     \n",
      "Epoch 7/100\n",
      "2000000/2000000 [==============================] - 2s - loss: 0.6931 - acc: 0.5026     \n",
      "Epoch 8/100\n",
      "2000000/2000000 [==============================] - 2s - loss: 0.6931 - acc: 0.5026     \n",
      "Epoch 9/100\n",
      "2000000/2000000 [==============================] - 2s - loss: 0.6931 - acc: 0.5026     \n",
      "Epoch 10/100\n",
      "2000000/2000000 [==============================] - 2s - loss: 0.6931 - acc: 0.5026     \n",
      "Epoch 11/100\n",
      "2000000/2000000 [==============================] - 2s - loss: 0.6931 - acc: 0.5026     \n",
      "Epoch 12/100\n",
      "2000000/2000000 [==============================] - 2s - loss: 0.6931 - acc: 0.5026     \n",
      "Epoch 13/100\n",
      "2000000/2000000 [==============================] - 2s - loss: 0.6931 - acc: 0.5026     \n",
      "Epoch 14/100\n",
      "2000000/2000000 [==============================] - 2s - loss: 0.6931 - acc: 0.5026     \n",
      "Epoch 15/100\n",
      "2000000/2000000 [==============================] - 2s - loss: 0.6931 - acc: 0.5026     \n",
      "Epoch 16/100\n",
      "2000000/2000000 [==============================] - 2s - loss: 0.6931 - acc: 0.5026     \n",
      "Epoch 17/100\n",
      "2000000/2000000 [==============================] - 2s - loss: 0.6931 - acc: 0.5026     \n",
      "Epoch 18/100\n",
      "2000000/2000000 [==============================] - 2s - loss: 0.6931 - acc: 0.5027     \n",
      "Epoch 19/100\n",
      "2000000/2000000 [==============================] - 2s - loss: 0.6931 - acc: 0.5026     \n",
      "Epoch 20/100\n",
      "2000000/2000000 [==============================] - 2s - loss: 0.6931 - acc: 0.5026     \n",
      "Epoch 21/100\n",
      "2000000/2000000 [==============================] - 2s - loss: 0.6931 - acc: 0.5026     \n",
      "Epoch 22/100\n",
      "2000000/2000000 [==============================] - 2s - loss: 0.6931 - acc: 0.5026     \n",
      "Epoch 23/100\n",
      "2000000/2000000 [==============================] - 2s - loss: 0.6931 - acc: 0.5026     \n",
      "Epoch 24/100\n",
      "2000000/2000000 [==============================] - 2s - loss: 0.6931 - acc: 0.5026     \n",
      "Epoch 25/100\n",
      "2000000/2000000 [==============================] - 2s - loss: 0.6931 - acc: 0.5026     \n",
      "Epoch 26/100\n",
      "2000000/2000000 [==============================] - 2s - loss: 0.6931 - acc: 0.5026     \n",
      "Epoch 27/100\n",
      "2000000/2000000 [==============================] - 2s - loss: 0.6931 - acc: 0.5026     \n",
      "Epoch 28/100\n",
      "2000000/2000000 [==============================] - 2s - loss: 0.6931 - acc: 0.5026     \n",
      "Epoch 29/100\n",
      "2000000/2000000 [==============================] - 2s - loss: 0.6931 - acc: 0.5026     \n",
      "Epoch 30/100\n",
      "2000000/2000000 [==============================] - 2s - loss: 0.6931 - acc: 0.5026     \n",
      "Epoch 31/100\n",
      "2000000/2000000 [==============================] - 2s - loss: 0.6931 - acc: 0.5026     \n",
      "Epoch 32/100\n",
      "2000000/2000000 [==============================] - 2s - loss: 0.6931 - acc: 0.5026     \n",
      "Epoch 33/100\n",
      "2000000/2000000 [==============================] - 2s - loss: 0.6931 - acc: 0.5026     \n",
      "Epoch 34/100\n",
      "2000000/2000000 [==============================] - 2s - loss: 0.6931 - acc: 0.5026     \n",
      "Epoch 35/100\n",
      "2000000/2000000 [==============================] - 2s - loss: 0.6931 - acc: 0.5026     \n",
      "Epoch 36/100\n",
      "2000000/2000000 [==============================] - 2s - loss: 0.6931 - acc: 0.5026     \n",
      "Epoch 37/100\n",
      "2000000/2000000 [==============================] - 2s - loss: 0.6931 - acc: 0.5026     \n",
      "Epoch 38/100\n",
      "2000000/2000000 [==============================] - 2s - loss: 0.6931 - acc: 0.5026     \n",
      "Epoch 39/100\n",
      "2000000/2000000 [==============================] - 2s - loss: 0.6931 - acc: 0.5026     \n",
      "Epoch 40/100\n",
      "2000000/2000000 [==============================] - 2s - loss: 0.6931 - acc: 0.5026     \n",
      "Epoch 41/100\n",
      "2000000/2000000 [==============================] - 2s - loss: 0.6931 - acc: 0.5027     \n",
      "Epoch 42/100\n",
      "2000000/2000000 [==============================] - 2s - loss: 0.6931 - acc: 0.5025     \n",
      "Epoch 43/100\n",
      "2000000/2000000 [==============================] - 2s - loss: 0.6931 - acc: 0.5026     \n",
      "Epoch 44/100\n",
      "2000000/2000000 [==============================] - 2s - loss: 0.6931 - acc: 0.5027     \n",
      "Epoch 45/100\n",
      "2000000/2000000 [==============================] - 2s - loss: 0.6931 - acc: 0.5026     \n",
      "Epoch 46/100\n",
      "2000000/2000000 [==============================] - 2s - loss: 0.6931 - acc: 0.5026     \n",
      "Epoch 47/100\n",
      "2000000/2000000 [==============================] - 3s - loss: 0.6931 - acc: 0.5026     \n",
      "Epoch 48/100\n",
      "2000000/2000000 [==============================] - 2s - loss: 0.6931 - acc: 0.5026     \n",
      "Epoch 49/100\n",
      "2000000/2000000 [==============================] - 2s - loss: 0.6931 - acc: 0.5025     \n",
      "Epoch 50/100\n",
      "2000000/2000000 [==============================] - 2s - loss: 0.6931 - acc: 0.5026     \n",
      "Epoch 51/100\n",
      "2000000/2000000 [==============================] - 2s - loss: 0.6931 - acc: 0.5026     \n",
      "Epoch 52/100\n",
      "2000000/2000000 [==============================] - 2s - loss: 0.6931 - acc: 0.5026     \n",
      "Epoch 53/100\n",
      "2000000/2000000 [==============================] - 2s - loss: 0.6931 - acc: 0.5025     \n",
      "Epoch 54/100\n",
      "2000000/2000000 [==============================] - 2s - loss: 0.6931 - acc: 0.5026     \n",
      "Epoch 55/100\n",
      "2000000/2000000 [==============================] - 2s - loss: 0.6931 - acc: 0.5026     \n",
      "Epoch 56/100\n",
      "2000000/2000000 [==============================] - 2s - loss: 0.6931 - acc: 0.5026     \n",
      "Epoch 57/100\n",
      "2000000/2000000 [==============================] - 2s - loss: 0.6931 - acc: 0.5026     \n",
      "Epoch 58/100\n",
      "2000000/2000000 [==============================] - 2s - loss: 0.6931 - acc: 0.5026     \n",
      "Epoch 59/100\n",
      "2000000/2000000 [==============================] - 2s - loss: 0.6931 - acc: 0.5027     \n",
      "Epoch 60/100\n",
      "2000000/2000000 [==============================] - 2s - loss: 0.6931 - acc: 0.5026     \n",
      "Epoch 61/100\n",
      "2000000/2000000 [==============================] - 2s - loss: 0.6931 - acc: 0.5027     \n",
      "Epoch 62/100\n",
      "2000000/2000000 [==============================] - 2s - loss: 0.6931 - acc: 0.5027     \n",
      "Epoch 63/100\n",
      "2000000/2000000 [==============================] - 2s - loss: 0.6931 - acc: 0.5026     \n",
      "Epoch 64/100\n",
      "2000000/2000000 [==============================] - 2s - loss: 0.6931 - acc: 0.5026     \n",
      "Epoch 65/100\n",
      "2000000/2000000 [==============================] - 2s - loss: 0.6931 - acc: 0.5026     \n",
      "Epoch 66/100\n",
      "2000000/2000000 [==============================] - 2s - loss: 0.6931 - acc: 0.5026     \n",
      "Epoch 67/100\n",
      "2000000/2000000 [==============================] - 2s - loss: 0.6931 - acc: 0.5026     \n",
      "Epoch 68/100\n",
      "2000000/2000000 [==============================] - 2s - loss: 0.6931 - acc: 0.5026     \n",
      "Epoch 69/100\n",
      "2000000/2000000 [==============================] - 2s - loss: 0.6931 - acc: 0.5025     \n",
      "Epoch 70/100\n",
      "2000000/2000000 [==============================] - 2s - loss: 0.6931 - acc: 0.5026     \n",
      "Epoch 71/100\n",
      "2000000/2000000 [==============================] - 2s - loss: 0.6931 - acc: 0.5026     \n",
      "Epoch 72/100\n",
      "2000000/2000000 [==============================] - 2s - loss: 0.6931 - acc: 0.5027     \n",
      "Epoch 73/100\n",
      "2000000/2000000 [==============================] - 2s - loss: 0.6931 - acc: 0.5026     \n",
      "Epoch 74/100\n",
      "2000000/2000000 [==============================] - 2s - loss: 0.6931 - acc: 0.5025     \n",
      "Epoch 75/100\n",
      "2000000/2000000 [==============================] - 2s - loss: 0.6931 - acc: 0.5026     \n",
      "Epoch 76/100\n",
      "2000000/2000000 [==============================] - 2s - loss: 0.6931 - acc: 0.5026     \n",
      "Epoch 77/100\n",
      "2000000/2000000 [==============================] - 2s - loss: 0.6931 - acc: 0.5026     \n",
      "Epoch 78/100\n",
      "2000000/2000000 [==============================] - 2s - loss: 0.6931 - acc: 0.5026     \n",
      "Epoch 79/100\n",
      "2000000/2000000 [==============================] - 2s - loss: 0.6931 - acc: 0.5026     \n",
      "Epoch 80/100\n",
      "2000000/2000000 [==============================] - 2s - loss: 0.6931 - acc: 0.5026     \n",
      "Epoch 81/100\n",
      "2000000/2000000 [==============================] - 2s - loss: 0.6931 - acc: 0.5026     \n",
      "Epoch 82/100\n"
     ]
    },
    {
     "name": "stdout",
     "output_type": "stream",
     "text": [
      "2000000/2000000 [==============================] - 2s - loss: 0.6931 - acc: 0.5026     \n",
      "Epoch 83/100\n",
      "2000000/2000000 [==============================] - 2s - loss: 0.6931 - acc: 0.5026     \n",
      "Epoch 84/100\n",
      "2000000/2000000 [==============================] - 2s - loss: 0.6931 - acc: 0.5027     \n",
      "Epoch 85/100\n",
      "2000000/2000000 [==============================] - 2s - loss: 0.6931 - acc: 0.5027     \n",
      "Epoch 86/100\n",
      "2000000/2000000 [==============================] - 2s - loss: 0.6931 - acc: 0.5025     \n",
      "Epoch 87/100\n",
      "2000000/2000000 [==============================] - 2s - loss: 0.6931 - acc: 0.5026     \n",
      "Epoch 88/100\n",
      "2000000/2000000 [==============================] - 2s - loss: 0.6931 - acc: 0.5026     \n",
      "Epoch 89/100\n",
      "2000000/2000000 [==============================] - 2s - loss: 0.6931 - acc: 0.5026     \n",
      "Epoch 90/100\n",
      "2000000/2000000 [==============================] - 2s - loss: 0.6931 - acc: 0.5026     \n",
      "Epoch 91/100\n",
      "2000000/2000000 [==============================] - 2s - loss: 0.6931 - acc: 0.5026     \n",
      "Epoch 92/100\n",
      "2000000/2000000 [==============================] - 2s - loss: 0.6931 - acc: 0.5026     \n",
      "Epoch 93/100\n",
      "2000000/2000000 [==============================] - 2s - loss: 0.6931 - acc: 0.5027     \n",
      "Epoch 94/100\n",
      "2000000/2000000 [==============================] - 2s - loss: 0.6931 - acc: 0.5026     \n",
      "Epoch 95/100\n",
      "2000000/2000000 [==============================] - 2s - loss: 0.6931 - acc: 0.5026     \n",
      "Epoch 96/100\n",
      "2000000/2000000 [==============================] - 2s - loss: 0.6931 - acc: 0.5025     \n",
      "Epoch 97/100\n",
      "2000000/2000000 [==============================] - 2s - loss: 0.6931 - acc: 0.5027     \n",
      "Epoch 98/100\n",
      "2000000/2000000 [==============================] - 2s - loss: 0.6931 - acc: 0.5026     \n",
      "Epoch 99/100\n",
      "2000000/2000000 [==============================] - 2s - loss: 0.6931 - acc: 0.5026     \n",
      "Epoch 100/100\n",
      "2000000/2000000 [==============================] - 2s - loss: 0.6931 - acc: 0.5026     \n"
     ]
    },
    {
     "data": {
      "text/plain": [
       "[<matplotlib.lines.Line2D at 0x7f97328921d0>]"
      ]
     },
     "execution_count": 22,
     "metadata": {},
     "output_type": "execute_result"
    },
    {
     "data": {
      "image/png": "[encoded data removed]",
      "text/plain": [
       "<matplotlib.figure.Figure at 0x7f9720b2b198>"
      ]
     },
     "metadata": {},
     "output_type": "display_data"
    }
   ],
   "source": [
    "model.compile(optimizer=SGD(0.001), loss='binary_crossentropy', metrics=['accuracy'])\n",
    "history = model.fit(X, Y, batch_size=2000, epochs=100, verbose=1)\n",
    "plt.xlabel('Epochs')\n",
    "plt.ylabel('Accuracy')\n",
    "plt.title(\"constant LR, SGD\")\n",
    "plt.plot(history.history['acc'])"
   ]
  },
  {
   "cell_type": "markdown",
   "metadata": {},
   "source": [
    "The following tests callback functionality for each default Keras optimizer."
   ]
  },
  {
   "cell_type": "markdown",
   "metadata": {},
   "source": [
    "Tests demonstrate expected cyclical behavior, as well as functionality of resetting the cycles and/or adjusting boundary values."
   ]
  },
  {
   "cell_type": "markdown",
   "metadata": {},
   "source": [
    "### SGD"
   ]
  },
  {
   "cell_type": "code",
   "execution_count": 13,
   "metadata": {},
   "outputs": [],
   "source": [
    "clr_triangular = CyclicLR(mode='triangular')\n",
    "\n",
    "model.compile(optimizer=SGD(), loss='binary_crossentropy', metrics=['accuracy'])"
   ]
  },
  {
   "cell_type": "code",
   "execution_count": 14,
   "metadata": {
    "scrolled": true
   },
   "outputs": [
    {
     "name": "stdout",
     "output_type": "stream",
     "text": [
      "Epoch 1/30\n",
      "2000000/2000000 [==============================] - 2s - loss: 0.6932 - acc: 0.5005     \n",
      "Epoch 2/30\n",
      "2000000/2000000 [==============================] - 2s - loss: 0.6931 - acc: 0.5005     \n",
      "Epoch 3/30\n",
      "2000000/2000000 [==============================] - 2s - loss: 0.6931 - acc: 0.5005     \n",
      "Epoch 4/30\n",
      "2000000/2000000 [==============================] - 2s - loss: 0.6931 - acc: 0.5004     \n",
      "Epoch 5/30\n",
      "2000000/2000000 [==============================] - 2s - loss: 0.6931 - acc: 0.5005     \n",
      "Epoch 6/30\n",
      "2000000/2000000 [==============================] - 2s - loss: 0.6931 - acc: 0.5006     \n",
      "Epoch 7/30\n",
      "2000000/2000000 [==============================] - 2s - loss: 0.6931 - acc: 0.5005     \n",
      "Epoch 8/30\n",
      "2000000/2000000 [==============================] - 2s - loss: 0.6931 - acc: 0.5006     \n",
      "Epoch 9/30\n",
      "2000000/2000000 [==============================] - 2s - loss: 0.6931 - acc: 0.5007     \n",
      "Epoch 10/30\n",
      "2000000/2000000 [==============================] - 2s - loss: 0.6931 - acc: 0.5008     \n",
      "Epoch 11/30\n",
      "2000000/2000000 [==============================] - 3s - loss: 0.6931 - acc: 0.5007     \n",
      "Epoch 12/30\n",
      "2000000/2000000 [==============================] - 2s - loss: 0.6931 - acc: 0.5005     \n",
      "Epoch 13/30\n",
      "2000000/2000000 [==============================] - 2s - loss: 0.6931 - acc: 0.5007     \n",
      "Epoch 14/30\n",
      "2000000/2000000 [==============================] - 2s - loss: 0.6931 - acc: 0.5002     \n",
      "Epoch 15/30\n",
      "2000000/2000000 [==============================] - 2s - loss: 0.6931 - acc: 0.5006     \n",
      "Epoch 16/30\n",
      "2000000/2000000 [==============================] - 2s - loss: 0.6931 - acc: 0.5007     \n",
      "Epoch 17/30\n",
      "2000000/2000000 [==============================] - 2s - loss: 0.6931 - acc: 0.5010     \n",
      "Epoch 18/30\n",
      "2000000/2000000 [==============================] - 2s - loss: 0.6931 - acc: 0.5005     \n",
      "Epoch 19/30\n",
      "2000000/2000000 [==============================] - 2s - loss: 0.6931 - acc: 0.5009     \n",
      "Epoch 20/30\n",
      "2000000/2000000 [==============================] - 2s - loss: 0.6931 - acc: 0.5007     \n",
      "Epoch 21/30\n",
      "2000000/2000000 [==============================] - 3s - loss: 0.6931 - acc: 0.5007     \n",
      "Epoch 22/30\n",
      "2000000/2000000 [==============================] - 2s - loss: 0.6931 - acc: 0.5008     \n",
      "Epoch 23/30\n",
      "2000000/2000000 [==============================] - 2s - loss: 0.6931 - acc: 0.5007     \n",
      "Epoch 24/30\n",
      "2000000/2000000 [==============================] - 2s - loss: 0.6931 - acc: 0.5009     \n",
      "Epoch 25/30\n",
      "2000000/2000000 [==============================] - 2s - loss: 0.6931 - acc: 0.5007     \n",
      "Epoch 26/30\n",
      "2000000/2000000 [==============================] - 2s - loss: 0.6931 - acc: 0.5004     \n",
      "Epoch 27/30\n",
      "2000000/2000000 [==============================] - 2s - loss: 0.6931 - acc: 0.5005     \n",
      "Epoch 28/30\n",
      "2000000/2000000 [==============================] - 2s - loss: 0.6931 - acc: 0.5007     \n",
      "Epoch 29/30\n",
      "2000000/2000000 [==============================] - 2s - loss: 0.6931 - acc: 0.5006     \n",
      "Epoch 30/30\n",
      "2000000/2000000 [==============================] - 2s - loss: 0.6931 - acc: 0.5005     \n"
     ]
    }
   ],
   "source": [
    "history = model.fit(X, Y, batch_size=2000, epochs=30, callbacks=[clr_triangular], verbose=1)"
   ]
  },
  {
   "cell_type": "code",
   "execution_count": null,
   "metadata": {},
   "outputs": [],
   "source": [
    "plt.xlabel('Training Iterations')\n",
    "plt.ylabel('Learning Rate')\n",
    "plt.title(\"CLR - 'triangular' Policy\")\n",
    "plt.plot(clr_triangular.history['iterations'], clr_triangular.history['lr'])\n"
   ]
  },
  {
   "cell_type": "code",
   "execution_count": null,
   "metadata": {},
   "outputs": [],
   "source": [
    "plt.xlabel('Epochs')\n",
    "plt.ylabel('Accuracy')\n",
    "plt.title(\"CLR - 'triangular' Policy\")\n",
    "plt.plot(history.history['acc'])\n",
    "\n"
   ]
  },
  {
   "cell_type": "code",
   "execution_count": null,
   "metadata": {},
   "outputs": [],
   "source": [
    "clr_triangular = CyclicLR(mode='triangular2')\n",
    "\n",
    "model.compile(optimizer=SGD(), loss='binary_crossentropy', metrics=['accuracy'])"
   ]
  },
  {
   "cell_type": "code",
   "execution_count": null,
   "metadata": {
    "scrolled": true
   },
   "outputs": [],
   "source": [
    "history=model.fit(X, Y, batch_size=2000, epochs=20, callbacks=[clr_triangular], verbose=0)"
   ]
  },
  {
   "cell_type": "code",
   "execution_count": null,
   "metadata": {},
   "outputs": [],
   "source": [
    "clr_triangular._reset()"
   ]
  },
  {
   "cell_type": "code",
   "execution_count": null,
   "metadata": {},
   "outputs": [],
   "source": [
    "model.fit(X, Y, batch_size=2000, epochs=10, callbacks=[clr_triangular],verbose=0)"
   ]
  },
  {
   "cell_type": "code",
   "execution_count": null,
   "metadata": {},
   "outputs": [],
   "source": [
    "plt.xlabel('Training Iterations')\n",
    "plt.ylabel('Learning Rate')\n",
    "plt.title(\"'triangular2' Policy Reset at 20000 Iterations\")\n",
    "plt.plot(clr_triangular.history['iterations'], clr_triangular.history['lr'])\n"
   ]
  },
  {
   "cell_type": "code",
   "execution_count": null,
   "metadata": {},
   "outputs": [],
   "source": [
    "clr_triangular = CyclicLR(mode='exp_range', gamma=0.99994)\n",
    "\n",
    "model.compile(optimizer=SGD(), loss='binary_crossentropy', metrics=['accuracy'])"
   ]
  },
  {
   "cell_type": "code",
   "execution_count": null,
   "metadata": {},
   "outputs": [],
   "source": [
    "model.fit(X, Y, batch_size=2000, nb_epoch=20, callbacks=[clr_triangular], verbose=0)"
   ]
  },
  {
   "cell_type": "code",
   "execution_count": null,
   "metadata": {},
   "outputs": [],
   "source": [
    "plt.xlabel('Training Iterations')\n",
    "plt.ylabel('Learning Rate')\n",
    "plt.title(\"CLR - 'exp_range' Policy\")\n",
    "plt.plot(clr_triangular.history['iterations'], clr_triangular.history['lr'])"
   ]
  },
  {
   "cell_type": "code",
   "execution_count": null,
   "metadata": {},
   "outputs": [],
   "source": [
    "clr_triangular._reset(new_base_lr=0.003, new_max_lr=0.009)"
   ]
  },
  {
   "cell_type": "code",
   "execution_count": null,
   "metadata": {},
   "outputs": [],
   "source": [
    "model.fit(X, Y, batch_size=2000, nb_epoch=10, callbacks=[clr_triangular], verbose=0)"
   ]
  },
  {
   "cell_type": "code",
   "execution_count": null,
   "metadata": {},
   "outputs": [],
   "source": [
    "plt.plot(clr_triangular.history['iterations'], clr_triangular.history['lr'])"
   ]
  },
  {
   "cell_type": "code",
   "execution_count": null,
   "metadata": {},
   "outputs": [],
   "source": [
    "clr = lambda x: 0.5*(1+np.sin(x*np.pi/2.))"
   ]
  },
  {
   "cell_type": "code",
   "execution_count": null,
   "metadata": {},
   "outputs": [],
   "source": [
    "clr_triangular = CyclicLR(scale_fn=clr, scale_mode='cycle')\n",
    "\n",
    "model.compile(optimizer=SGD(), loss='binary_crossentropy', metrics=['accuracy'])"
   ]
  },
  {
   "cell_type": "code",
   "execution_count": null,
   "metadata": {},
   "outputs": [],
   "source": [
    "model.fit(X, Y, batch_size=2000, nb_epoch=40, callbacks=[clr_triangular], verbose=0)"
   ]
  },
  {
   "cell_type": "code",
   "execution_count": null,
   "metadata": {},
   "outputs": [],
   "source": [
    "plt.xlabel('Training Iterations')\n",
    "plt.ylabel('Learning Rate')\n",
    "plt.title(\"CLR - Custom Sinusoidal Cycle-Policy\")\n",
    "plt.plot(clr_triangular.history['iterations'], clr_triangular.history['lr'])\n"
   ]
  },
  {
   "cell_type": "code",
   "execution_count": null,
   "metadata": {},
   "outputs": [],
   "source": [
    "clr = lambda x: 1/(5**(x*0.0001))"
   ]
  },
  {
   "cell_type": "code",
   "execution_count": null,
   "metadata": {},
   "outputs": [],
   "source": [
    "clr_triangular = CyclicLR(scale_fn=clr, scale_mode='iterations')\n",
    "\n",
    "model.compile(optimizer=SGD(), loss='binary_crossentropy', metrics=['accuracy'])"
   ]
  },
  {
   "cell_type": "code",
   "execution_count": null,
   "metadata": {
    "scrolled": true
   },
   "outputs": [],
   "source": [
    "model.fit(X, Y, batch_size=2000, nb_epoch=10, callbacks=[clr_triangular],verbose=0)"
   ]
  },
  {
   "cell_type": "code",
   "execution_count": null,
   "metadata": {},
   "outputs": [],
   "source": [
    "plt.xlabel('Training Iterations')\n",
    "plt.ylabel('Learning Rate')\n",
    "plt.title(\"CLR - Custom Iteration-Policy\")\n",
    "plt.plot(clr_triangular.history['iterations'], clr_triangular.history['lr'])"
   ]
  },
  {
   "cell_type": "markdown",
   "metadata": {},
   "source": [
    "### RMSprop"
   ]
  },
  {
   "cell_type": "code",
   "execution_count": null,
   "metadata": {},
   "outputs": [],
   "source": [
    "clr_triangular = CyclicLR(mode='triangular')\n",
    "\n",
    "model.compile(optimizer=RMSprop(), loss='binary_crossentropy', metrics=['accuracy'])"
   ]
  },
  {
   "cell_type": "code",
   "execution_count": null,
   "metadata": {
    "scrolled": true
   },
   "outputs": [],
   "source": [
    "model.fit(X, Y, batch_size=2000, nb_epoch=10, callbacks=[clr_triangular],verbose=0)"
   ]
  },
  {
   "cell_type": "code",
   "execution_count": null,
   "metadata": {},
   "outputs": [],
   "source": [
    "plt.plot(clr_triangular.history['iterations'], clr_triangular.history['lr'])"
   ]
  },
  {
   "cell_type": "code",
   "execution_count": null,
   "metadata": {},
   "outputs": [],
   "source": [
    "clr_triangular = CyclicLR(mode='triangular2')\n",
    "\n",
    "model.compile(optimizer=RMSprop(), loss='binary_crossentropy', metrics=['accuracy'])"
   ]
  },
  {
   "cell_type": "code",
   "execution_count": null,
   "metadata": {
    "scrolled": true
   },
   "outputs": [],
   "source": [
    "model.fit(X, Y, batch_size=2000, nb_epoch=20, callbacks=[clr_triangular], verbose=0)"
   ]
  },
  {
   "cell_type": "code",
   "execution_count": null,
   "metadata": {},
   "outputs": [],
   "source": [
    "clr_triangular._reset()"
   ]
  },
  {
   "cell_type": "code",
   "execution_count": null,
   "metadata": {},
   "outputs": [],
   "source": [
    "model.fit(X, Y, batch_size=2000, nb_epoch=10, callbacks=[clr_triangular], verbose=0)"
   ]
  },
  {
   "cell_type": "code",
   "execution_count": null,
   "metadata": {},
   "outputs": [],
   "source": [
    "plt.plot(clr_triangular.history['iterations'], clr_triangular.history['lr'])"
   ]
  },
  {
   "cell_type": "code",
   "execution_count": null,
   "metadata": {},
   "outputs": [],
   "source": [
    "clr_triangular = CyclicLR(mode='exp_range', gamma=0.99994)\n",
    "\n",
    "model.compile(optimizer=RMSprop(), loss='binary_crossentropy', metrics=['accuracy'])"
   ]
  },
  {
   "cell_type": "code",
   "execution_count": null,
   "metadata": {},
   "outputs": [],
   "source": [
    "model.fit(X, Y, batch_size=2000, nb_epoch=20, callbacks=[clr_triangular], verbose=0)"
   ]
  },
  {
   "cell_type": "code",
   "execution_count": null,
   "metadata": {},
   "outputs": [],
   "source": [
    "plt.plot(clr_triangular.history['iterations'], clr_triangular.history['lr'])\n"
   ]
  },
  {
   "cell_type": "code",
   "execution_count": null,
   "metadata": {},
   "outputs": [],
   "source": [
    "clr_triangular._reset(new_base_lr=0.003, new_max_lr=0.009)"
   ]
  },
  {
   "cell_type": "code",
   "execution_count": null,
   "metadata": {},
   "outputs": [],
   "source": [
    "model.fit(X, Y, batch_size=2000, nb_epoch=10, callbacks=[clr_triangular], verbose=0)"
   ]
  },
  {
   "cell_type": "code",
   "execution_count": null,
   "metadata": {},
   "outputs": [],
   "source": [
    "plt.plot(clr_triangular.history['iterations'], clr_triangular.history['lr'])\n"
   ]
  },
  {
   "cell_type": "code",
   "execution_count": null,
   "metadata": {},
   "outputs": [],
   "source": [
    "clr = lambda x: 0.5*(1+np.sin(x*np.pi/2.))"
   ]
  },
  {
   "cell_type": "code",
   "execution_count": null,
   "metadata": {},
   "outputs": [],
   "source": [
    "clr_triangular = CyclicLR(scale_fn=clr, scale_mode='cycle')\n",
    "\n",
    "model.compile(optimizer=RMSprop(), loss='binary_crossentropy', metrics=['accuracy'])"
   ]
  },
  {
   "cell_type": "code",
   "execution_count": null,
   "metadata": {},
   "outputs": [],
   "source": [
    "model.fit(X, Y, batch_size=2000, nb_epoch=40, callbacks=[clr_triangular], verbose=0)"
   ]
  },
  {
   "cell_type": "code",
   "execution_count": null,
   "metadata": {},
   "outputs": [],
   "source": [
    "plt.plot(clr_triangular.history['iterations'], clr_triangular.history['lr'])\n"
   ]
  },
  {
   "cell_type": "code",
   "execution_count": null,
   "metadata": {},
   "outputs": [],
   "source": [
    "clr = lambda x: 1/(5**(x*0.0001))"
   ]
  },
  {
   "cell_type": "code",
   "execution_count": null,
   "metadata": {},
   "outputs": [],
   "source": [
    "clr_triangular = CyclicLR(scale_fn=clr, scale_mode='iterations')\n",
    "\n",
    "model.compile(optimizer=RMSprop(), loss='binary_crossentropy', metrics=['accuracy'])"
   ]
  },
  {
   "cell_type": "code",
   "execution_count": null,
   "metadata": {
    "scrolled": true
   },
   "outputs": [],
   "source": [
    "model.fit(X, Y, batch_size=2000, nb_epoch=10, callbacks=[clr_triangular], verbose=0)"
   ]
  },
  {
   "cell_type": "code",
   "execution_count": null,
   "metadata": {},
   "outputs": [],
   "source": [
    "plt.plot(clr_triangular.history['iterations'], clr_triangular.history['lr'])\n"
   ]
  },
  {
   "cell_type": "markdown",
   "metadata": {},
   "source": [
    "### Adagrad"
   ]
  },
  {
   "cell_type": "code",
   "execution_count": null,
   "metadata": {},
   "outputs": [],
   "source": [
    "clr_triangular = CyclicLR(mode='triangular')\n",
    "\n",
    "model.compile(optimizer=Adagrad(), loss='binary_crossentropy', metrics=['accuracy'])"
   ]
  },
  {
   "cell_type": "code",
   "execution_count": null,
   "metadata": {
    "scrolled": true
   },
   "outputs": [],
   "source": [
    "model.fit(X, Y, batch_size=2000, nb_epoch=10, callbacks=[clr_triangular],verbose=0)"
   ]
  },
  {
   "cell_type": "code",
   "execution_count": null,
   "metadata": {},
   "outputs": [],
   "source": [
    "plt.plot(clr_triangular.history['iterations'], clr_triangular.history['lr'])\n"
   ]
  },
  {
   "cell_type": "code",
   "execution_count": null,
   "metadata": {},
   "outputs": [],
   "source": [
    "clr_triangular = CyclicLR(mode='triangular2')\n",
    "\n",
    "model.compile(optimizer=Adagrad(), loss='binary_crossentropy', metrics=['accuracy'])"
   ]
  },
  {
   "cell_type": "code",
   "execution_count": null,
   "metadata": {
    "scrolled": true
   },
   "outputs": [],
   "source": [
    "model.fit(X, Y, batch_size=2000, nb_epoch=20, callbacks=[clr_triangular], verbose=0)"
   ]
  },
  {
   "cell_type": "code",
   "execution_count": null,
   "metadata": {},
   "outputs": [],
   "source": [
    "clr_triangular._reset()"
   ]
  },
  {
   "cell_type": "code",
   "execution_count": null,
   "metadata": {},
   "outputs": [],
   "source": [
    "model.fit(X, Y, batch_size=2000, nb_epoch=10, callbacks=[clr_triangular], verbose=0)"
   ]
  },
  {
   "cell_type": "code",
   "execution_count": null,
   "metadata": {},
   "outputs": [],
   "source": [
    "plt.plot(clr_triangular.history['iterations'], clr_triangular.history['lr'])\n"
   ]
  },
  {
   "cell_type": "code",
   "execution_count": null,
   "metadata": {},
   "outputs": [],
   "source": [
    "clr_triangular = CyclicLR(mode='exp_range', gamma=0.99994)\n",
    "\n",
    "model.compile(optimizer=Adagrad(), loss='binary_crossentropy', metrics=['accuracy'])"
   ]
  },
  {
   "cell_type": "code",
   "execution_count": null,
   "metadata": {},
   "outputs": [],
   "source": [
    "model.fit(X, Y, batch_size=2000, nb_epoch=20, callbacks=[clr_triangular], verbose=0)"
   ]
  },
  {
   "cell_type": "code",
   "execution_count": null,
   "metadata": {},
   "outputs": [],
   "source": [
    "plt.plot(clr_triangular.history['iterations'], clr_triangular.history['lr'])\n"
   ]
  },
  {
   "cell_type": "code",
   "execution_count": null,
   "metadata": {},
   "outputs": [],
   "source": [
    "clr_triangular._reset(new_base_lr=0.003, new_max_lr=0.009)"
   ]
  },
  {
   "cell_type": "code",
   "execution_count": null,
   "metadata": {},
   "outputs": [],
   "source": [
    "model.fit(X, Y, batch_size=2000, nb_epoch=10, callbacks=[clr_triangular], verbose=0)"
   ]
  },
  {
   "cell_type": "code",
   "execution_count": null,
   "metadata": {},
   "outputs": [],
   "source": [
    "plt.plot(clr_triangular.history['iterations'], clr_triangular.history['lr'])\n"
   ]
  },
  {
   "cell_type": "code",
   "execution_count": null,
   "metadata": {},
   "outputs": [],
   "source": [
    "clr = lambda x: 0.5*(1+np.sin(x*np.pi/2.))"
   ]
  },
  {
   "cell_type": "code",
   "execution_count": null,
   "metadata": {},
   "outputs": [],
   "source": [
    "clr_triangular = CyclicLR(scale_fn=clr, scale_mode='cycle')\n",
    "\n",
    "model.compile(optimizer=Adagrad(), loss='binary_crossentropy', metrics=['accuracy'])"
   ]
  },
  {
   "cell_type": "code",
   "execution_count": null,
   "metadata": {},
   "outputs": [],
   "source": [
    "model.fit(X, Y, batch_size=2000, nb_epoch=40, callbacks=[clr_triangular], verbose=0)"
   ]
  },
  {
   "cell_type": "code",
   "execution_count": null,
   "metadata": {},
   "outputs": [],
   "source": [
    "plt.plot(clr_triangular.history['iterations'], clr_triangular.history['lr'])\n"
   ]
  },
  {
   "cell_type": "code",
   "execution_count": null,
   "metadata": {},
   "outputs": [],
   "source": [
    "clr = lambda x: 1/(5**(x*0.0001))"
   ]
  },
  {
   "cell_type": "code",
   "execution_count": null,
   "metadata": {},
   "outputs": [],
   "source": [
    "clr_triangular = CyclicLR(scale_fn=clr, scale_mode='iterations')\n",
    "\n",
    "model.compile(optimizer=Adagrad(), loss='binary_crossentropy', metrics=['accuracy'])"
   ]
  },
  {
   "cell_type": "code",
   "execution_count": null,
   "metadata": {
    "scrolled": true
   },
   "outputs": [],
   "source": [
    "model.fit(X, Y, batch_size=2000, nb_epoch=10, callbacks=[clr_triangular], verbose=0)"
   ]
  },
  {
   "cell_type": "code",
   "execution_count": null,
   "metadata": {},
   "outputs": [],
   "source": [
    "plt.plot(clr_triangular.history['iterations'], clr_triangular.history['lr'])\n"
   ]
  },
  {
   "cell_type": "markdown",
   "metadata": {},
   "source": [
    "### Adadelta"
   ]
  },
  {
   "cell_type": "code",
   "execution_count": null,
   "metadata": {},
   "outputs": [],
   "source": [
    "clr_triangular = CyclicLR(mode='triangular')\n",
    "\n",
    "model.compile(optimizer=Adadelta(), loss='binary_crossentropy', metrics=['accuracy'])"
   ]
  },
  {
   "cell_type": "code",
   "execution_count": null,
   "metadata": {
    "scrolled": true
   },
   "outputs": [],
   "source": [
    "model.fit(X, Y, batch_size=2000, nb_epoch=10, callbacks=[clr_triangular],verbose=0)"
   ]
  },
  {
   "cell_type": "code",
   "execution_count": null,
   "metadata": {},
   "outputs": [],
   "source": [
    "plt.plot(clr_triangular.history['iterations'], clr_triangular.history['lr'])\n"
   ]
  },
  {
   "cell_type": "code",
   "execution_count": null,
   "metadata": {},
   "outputs": [],
   "source": [
    "clr_triangular = CyclicLR(mode='triangular2')\n",
    "\n",
    "model.compile(optimizer=Adadelta(), loss='binary_crossentropy', metrics=['accuracy'])"
   ]
  },
  {
   "cell_type": "code",
   "execution_count": null,
   "metadata": {
    "scrolled": true
   },
   "outputs": [],
   "source": [
    "model.fit(X, Y, batch_size=2000, nb_epoch=20, callbacks=[clr_triangular], verbose=0)"
   ]
  },
  {
   "cell_type": "code",
   "execution_count": null,
   "metadata": {},
   "outputs": [],
   "source": [
    "clr_triangular._reset()"
   ]
  },
  {
   "cell_type": "code",
   "execution_count": null,
   "metadata": {},
   "outputs": [],
   "source": [
    "model.fit(X, Y, batch_size=2000, nb_epoch=10, callbacks=[clr_triangular], verbose=0)"
   ]
  },
  {
   "cell_type": "code",
   "execution_count": null,
   "metadata": {},
   "outputs": [],
   "source": [
    "plt.plot(clr_triangular.history['iterations'], clr_triangular.history['lr'])\n"
   ]
  },
  {
   "cell_type": "code",
   "execution_count": null,
   "metadata": {},
   "outputs": [],
   "source": [
    "clr_triangular = CyclicLR(mode='exp_range', gamma=0.99994)\n",
    "\n",
    "model.compile(optimizer=Adadelta(), loss='binary_crossentropy', metrics=['accuracy'])"
   ]
  },
  {
   "cell_type": "code",
   "execution_count": null,
   "metadata": {},
   "outputs": [],
   "source": [
    "model.fit(X, Y, batch_size=2000, nb_epoch=20, callbacks=[clr_triangular], verbose=0)"
   ]
  },
  {
   "cell_type": "code",
   "execution_count": null,
   "metadata": {},
   "outputs": [],
   "source": [
    "plt.plot(clr_triangular.history['iterations'], clr_triangular.history['lr'])\n"
   ]
  },
  {
   "cell_type": "code",
   "execution_count": null,
   "metadata": {},
   "outputs": [],
   "source": [
    "clr_triangular._reset(new_base_lr=0.003, new_max_lr=0.009)"
   ]
  },
  {
   "cell_type": "code",
   "execution_count": null,
   "metadata": {},
   "outputs": [],
   "source": [
    "model.fit(X, Y, batch_size=2000, nb_epoch=10, callbacks=[clr_triangular], verbose=0)"
   ]
  },
  {
   "cell_type": "code",
   "execution_count": null,
   "metadata": {},
   "outputs": [],
   "source": [
    "plt.plot(clr_triangular.history['iterations'], clr_triangular.history['lr'])\n"
   ]
  },
  {
   "cell_type": "code",
   "execution_count": null,
   "metadata": {},
   "outputs": [],
   "source": [
    "clr = lambda x: 0.5*(1+np.sin(x*np.pi/2.))"
   ]
  },
  {
   "cell_type": "code",
   "execution_count": null,
   "metadata": {},
   "outputs": [],
   "source": [
    "clr_triangular = CyclicLR(scale_fn=clr, scale_mode='cycle')\n",
    "\n",
    "model.compile(optimizer=Adadelta(), loss='binary_crossentropy', metrics=['accuracy'])"
   ]
  },
  {
   "cell_type": "code",
   "execution_count": null,
   "metadata": {},
   "outputs": [],
   "source": [
    "model.fit(X, Y, batch_size=2000, nb_epoch=40, callbacks=[clr_triangular], verbose=0)"
   ]
  },
  {
   "cell_type": "code",
   "execution_count": null,
   "metadata": {},
   "outputs": [],
   "source": [
    "plt.plot(clr_triangular.history['iterations'], clr_triangular.history['lr'])\n"
   ]
  },
  {
   "cell_type": "code",
   "execution_count": null,
   "metadata": {},
   "outputs": [],
   "source": [
    "clr = lambda x: 1/(5**(x*0.0001))"
   ]
  },
  {
   "cell_type": "code",
   "execution_count": null,
   "metadata": {},
   "outputs": [],
   "source": [
    "clr_triangular = CyclicLR(scale_fn=clr, scale_mode='iterations')\n",
    "\n",
    "model.compile(optimizer=Adadelta(), loss='binary_crossentropy', metrics=['accuracy'])"
   ]
  },
  {
   "cell_type": "code",
   "execution_count": null,
   "metadata": {
    "scrolled": true
   },
   "outputs": [],
   "source": [
    "model.fit(X, Y, batch_size=2000, nb_epoch=10, callbacks=[clr_triangular], verbose=0)"
   ]
  },
  {
   "cell_type": "code",
   "execution_count": null,
   "metadata": {},
   "outputs": [],
   "source": [
    "plt.plot(clr_triangular.history['iterations'], clr_triangular.history['lr'])\n"
   ]
  },
  {
   "cell_type": "markdown",
   "metadata": {},
   "source": [
    "### Adam"
   ]
  },
  {
   "cell_type": "code",
   "execution_count": null,
   "metadata": {},
   "outputs": [],
   "source": [
    "clr_triangular = CyclicLR(mode='triangular')\n",
    "\n",
    "model.compile(optimizer=Adam(), loss='binary_crossentropy', metrics=['accuracy'])"
   ]
  },
  {
   "cell_type": "code",
   "execution_count": null,
   "metadata": {
    "scrolled": true
   },
   "outputs": [],
   "source": [
    "model.fit(X, Y, batch_size=2000, nb_epoch=10, callbacks=[clr_triangular],verbose=0)"
   ]
  },
  {
   "cell_type": "code",
   "execution_count": null,
   "metadata": {},
   "outputs": [],
   "source": [
    "plt.plot(clr_triangular.history['iterations'], clr_triangular.history['lr'])\n"
   ]
  },
  {
   "cell_type": "code",
   "execution_count": null,
   "metadata": {},
   "outputs": [],
   "source": [
    "clr_triangular = CyclicLR(mode='triangular2')\n",
    "\n",
    "model.compile(optimizer=Adam(), loss='binary_crossentropy', metrics=['accuracy'])"
   ]
  },
  {
   "cell_type": "code",
   "execution_count": null,
   "metadata": {
    "scrolled": true
   },
   "outputs": [],
   "source": [
    "model.fit(X, Y, batch_size=2000, nb_epoch=20, callbacks=[clr_triangular], verbose=0)"
   ]
  },
  {
   "cell_type": "code",
   "execution_count": null,
   "metadata": {},
   "outputs": [],
   "source": [
    "clr_triangular._reset()"
   ]
  },
  {
   "cell_type": "code",
   "execution_count": null,
   "metadata": {},
   "outputs": [],
   "source": [
    "model.fit(X, Y, batch_size=2000, nb_epoch=10, callbacks=[clr_triangular], verbose=0)"
   ]
  },
  {
   "cell_type": "code",
   "execution_count": null,
   "metadata": {},
   "outputs": [],
   "source": [
    "plt.plot(clr_triangular.history['iterations'], clr_triangular.history['lr'])\n"
   ]
  },
  {
   "cell_type": "code",
   "execution_count": null,
   "metadata": {},
   "outputs": [],
   "source": [
    "clr_triangular = CyclicLR(mode='exp_range', gamma=0.99994)\n",
    "\n",
    "model.compile(optimizer=Adam(), loss='binary_crossentropy', metrics=['accuracy'])"
   ]
  },
  {
   "cell_type": "code",
   "execution_count": null,
   "metadata": {},
   "outputs": [],
   "source": [
    "model.fit(X, Y, batch_size=2000, nb_epoch=20, callbacks=[clr_triangular], verbose=0)"
   ]
  },
  {
   "cell_type": "code",
   "execution_count": null,
   "metadata": {},
   "outputs": [],
   "source": [
    "plt.plot(clr_triangular.history['iterations'], clr_triangular.history['lr'])\n"
   ]
  },
  {
   "cell_type": "code",
   "execution_count": null,
   "metadata": {},
   "outputs": [],
   "source": [
    "clr_triangular._reset(new_base_lr=0.003, new_max_lr=0.009)"
   ]
  },
  {
   "cell_type": "code",
   "execution_count": null,
   "metadata": {},
   "outputs": [],
   "source": [
    "model.fit(X, Y, batch_size=2000, nb_epoch=10, callbacks=[clr_triangular], verbose=0)"
   ]
  },
  {
   "cell_type": "code",
   "execution_count": null,
   "metadata": {},
   "outputs": [],
   "source": [
    "plt.plot(clr_triangular.history['iterations'], clr_triangular.history['lr'])\n"
   ]
  },
  {
   "cell_type": "code",
   "execution_count": null,
   "metadata": {},
   "outputs": [],
   "source": [
    "clr = lambda x: 0.5*(1+np.sin(x*np.pi/2.))"
   ]
  },
  {
   "cell_type": "code",
   "execution_count": null,
   "metadata": {},
   "outputs": [],
   "source": [
    "clr_triangular = CyclicLR(scale_fn=clr, scale_mode='cycle')\n",
    "\n",
    "model.compile(optimizer=Adam(), loss='binary_crossentropy', metrics=['accuracy'])"
   ]
  },
  {
   "cell_type": "code",
   "execution_count": null,
   "metadata": {},
   "outputs": [],
   "source": [
    "model.fit(X, Y, batch_size=2000, nb_epoch=40, callbacks=[clr_triangular], verbose=0)"
   ]
  },
  {
   "cell_type": "code",
   "execution_count": null,
   "metadata": {},
   "outputs": [],
   "source": [
    "plt.plot(clr_triangular.history['iterations'], clr_triangular.history['lr'])\n"
   ]
  },
  {
   "cell_type": "code",
   "execution_count": null,
   "metadata": {},
   "outputs": [],
   "source": [
    "clr = lambda x: 1/(5**(x*0.0001))"
   ]
  },
  {
   "cell_type": "code",
   "execution_count": null,
   "metadata": {},
   "outputs": [],
   "source": [
    "clr_triangular = CyclicLR(scale_fn=clr, scale_mode='iterations')\n",
    "\n",
    "model.compile(optimizer=Adam(), loss='binary_crossentropy', metrics=['accuracy'])"
   ]
  },
  {
   "cell_type": "code",
   "execution_count": null,
   "metadata": {
    "scrolled": true
   },
   "outputs": [],
   "source": [
    "model.fit(X, Y, batch_size=2000, nb_epoch=10, callbacks=[clr_triangular], verbose=0)"
   ]
  },
  {
   "cell_type": "code",
   "execution_count": null,
   "metadata": {},
   "outputs": [],
   "source": [
    "plt.plot(clr_triangular.history['iterations'], clr_triangular.history['lr'])\n"
   ]
  },
  {
   "cell_type": "markdown",
   "metadata": {},
   "source": [
    "### Adamax"
   ]
  },
  {
   "cell_type": "code",
   "execution_count": null,
   "metadata": {},
   "outputs": [],
   "source": [
    "clr_triangular = CyclicLR(mode='triangular')\n",
    "\n",
    "model.compile(optimizer=Adamax(), loss='binary_crossentropy', metrics=['accuracy'])"
   ]
  },
  {
   "cell_type": "code",
   "execution_count": null,
   "metadata": {
    "scrolled": true
   },
   "outputs": [],
   "source": [
    "model.fit(X, Y, batch_size=2000, nb_epoch=10, callbacks=[clr_triangular],verbose=0)"
   ]
  },
  {
   "cell_type": "code",
   "execution_count": null,
   "metadata": {},
   "outputs": [],
   "source": [
    "plt.plot(clr_triangular.history['iterations'], clr_triangular.history['lr'])\n"
   ]
  },
  {
   "cell_type": "code",
   "execution_count": null,
   "metadata": {},
   "outputs": [],
   "source": [
    "clr_triangular = CyclicLR(mode='triangular2')\n",
    "\n",
    "model.compile(optimizer=Adamax(), loss='binary_crossentropy', metrics=['accuracy'])"
   ]
  },
  {
   "cell_type": "code",
   "execution_count": null,
   "metadata": {
    "scrolled": true
   },
   "outputs": [],
   "source": [
    "model.fit(X, Y, batch_size=2000, nb_epoch=20, callbacks=[clr_triangular], verbose=0)"
   ]
  },
  {
   "cell_type": "code",
   "execution_count": null,
   "metadata": {},
   "outputs": [],
   "source": [
    "clr_triangular._reset()"
   ]
  },
  {
   "cell_type": "code",
   "execution_count": null,
   "metadata": {},
   "outputs": [],
   "source": [
    "model.fit(X, Y, batch_size=2000, nb_epoch=10, callbacks=[clr_triangular], verbose=0)"
   ]
  },
  {
   "cell_type": "code",
   "execution_count": null,
   "metadata": {},
   "outputs": [],
   "source": [
    "plt.plot(clr_triangular.history['iterations'], clr_triangular.history['lr'])\n"
   ]
  },
  {
   "cell_type": "code",
   "execution_count": null,
   "metadata": {},
   "outputs": [],
   "source": [
    "clr_triangular = CyclicLR(mode='exp_range', gamma=0.99994)\n",
    "\n",
    "model.compile(optimizer=Adamax(), loss='binary_crossentropy', metrics=['accuracy'])"
   ]
  },
  {
   "cell_type": "code",
   "execution_count": null,
   "metadata": {},
   "outputs": [],
   "source": [
    "model.fit(X, Y, batch_size=2000, nb_epoch=20, callbacks=[clr_triangular], verbose=0)"
   ]
  },
  {
   "cell_type": "code",
   "execution_count": null,
   "metadata": {},
   "outputs": [],
   "source": [
    "plt.plot(clr_triangular.history['iterations'], clr_triangular.history['lr'])\n"
   ]
  },
  {
   "cell_type": "code",
   "execution_count": null,
   "metadata": {},
   "outputs": [],
   "source": [
    "clr_triangular._reset(new_base_lr=0.003, new_max_lr=0.009)"
   ]
  },
  {
   "cell_type": "code",
   "execution_count": null,
   "metadata": {},
   "outputs": [],
   "source": [
    "model.fit(X, Y, batch_size=2000, nb_epoch=10, callbacks=[clr_triangular], verbose=0)"
   ]
  },
  {
   "cell_type": "code",
   "execution_count": null,
   "metadata": {},
   "outputs": [],
   "source": [
    "plt.plot(clr_triangular.history['iterations'], clr_triangular.history['lr'])\n"
   ]
  },
  {
   "cell_type": "code",
   "execution_count": null,
   "metadata": {},
   "outputs": [],
   "source": [
    "clr = lambda x: 0.5*(1+np.sin(x*np.pi/2.))"
   ]
  },
  {
   "cell_type": "code",
   "execution_count": null,
   "metadata": {},
   "outputs": [],
   "source": [
    "clr_triangular = CyclicLR(scale_fn=clr, scale_mode='cycle')\n",
    "\n",
    "model.compile(optimizer=Adamax(), loss='binary_crossentropy', metrics=['accuracy'])"
   ]
  },
  {
   "cell_type": "code",
   "execution_count": null,
   "metadata": {},
   "outputs": [],
   "source": [
    "model.fit(X, Y, batch_size=2000, nb_epoch=40, callbacks=[clr_triangular], verbose=0)"
   ]
  },
  {
   "cell_type": "code",
   "execution_count": null,
   "metadata": {},
   "outputs": [],
   "source": [
    "plt.plot(clr_triangular.history['iterations'], clr_triangular.history['lr'])\n"
   ]
  },
  {
   "cell_type": "code",
   "execution_count": null,
   "metadata": {},
   "outputs": [],
   "source": [
    "clr = lambda x: 1/(5**(x*0.0001))"
   ]
  },
  {
   "cell_type": "code",
   "execution_count": null,
   "metadata": {},
   "outputs": [],
   "source": [
    "clr_triangular = CyclicLR(scale_fn=clr, scale_mode='iterations')\n",
    "\n",
    "model.compile(optimizer=Adamax(), loss='binary_crossentropy', metrics=['accuracy'])"
   ]
  },
  {
   "cell_type": "code",
   "execution_count": null,
   "metadata": {
    "scrolled": true
   },
   "outputs": [],
   "source": [
    "model.fit(X, Y, batch_size=2000, nb_epoch=10, callbacks=[clr_triangular], verbose=0)"
   ]
  },
  {
   "cell_type": "code",
   "execution_count": null,
   "metadata": {},
   "outputs": [],
   "source": [
    "plt.plot(clr_triangular.history['iterations'], clr_triangular.history['lr'])\n"
   ]
  },
  {
   "cell_type": "markdown",
   "metadata": {},
   "source": [
    "### Nadam"
   ]
  },
  {
   "cell_type": "code",
   "execution_count": null,
   "metadata": {},
   "outputs": [],
   "source": [
    "clr_triangular = CyclicLR(mode='triangular')\n",
    "\n",
    "model.compile(optimizer=Nadam(), loss='binary_crossentropy', metrics=['accuracy'])"
   ]
  },
  {
   "cell_type": "code",
   "execution_count": null,
   "metadata": {
    "scrolled": true
   },
   "outputs": [],
   "source": [
    "model.fit(X, Y, batch_size=2000, nb_epoch=10, callbacks=[clr_triangular],verbose=0)"
   ]
  },
  {
   "cell_type": "code",
   "execution_count": null,
   "metadata": {},
   "outputs": [],
   "source": [
    "plt.plot(clr_triangular.history['iterations'], clr_triangular.history['lr'])\n"
   ]
  },
  {
   "cell_type": "code",
   "execution_count": null,
   "metadata": {},
   "outputs": [],
   "source": [
    "clr_triangular = CyclicLR(mode='triangular2')\n",
    "\n",
    "model.compile(optimizer=Nadam(), loss='binary_crossentropy', metrics=['accuracy'])"
   ]
  },
  {
   "cell_type": "code",
   "execution_count": null,
   "metadata": {
    "scrolled": true
   },
   "outputs": [],
   "source": [
    "model.fit(X, Y, batch_size=2000, nb_epoch=20, callbacks=[clr_triangular], verbose=0)"
   ]
  },
  {
   "cell_type": "code",
   "execution_count": null,
   "metadata": {},
   "outputs": [],
   "source": [
    "clr_triangular._reset()"
   ]
  },
  {
   "cell_type": "code",
   "execution_count": null,
   "metadata": {},
   "outputs": [],
   "source": [
    "model.fit(X, Y, batch_size=2000, nb_epoch=10, callbacks=[clr_triangular], verbose=0)"
   ]
  },
  {
   "cell_type": "code",
   "execution_count": null,
   "metadata": {},
   "outputs": [],
   "source": [
    "plt.plot(clr_triangular.history['iterations'], clr_triangular.history['lr'])\n"
   ]
  },
  {
   "cell_type": "code",
   "execution_count": null,
   "metadata": {},
   "outputs": [],
   "source": [
    "clr_triangular = CyclicLR(mode='exp_range', gamma=0.99994)\n",
    "\n",
    "model.compile(optimizer=Nadam(), loss='binary_crossentropy', metrics=['accuracy'])"
   ]
  },
  {
   "cell_type": "code",
   "execution_count": null,
   "metadata": {},
   "outputs": [],
   "source": [
    "model.fit(X, Y, batch_size=2000, nb_epoch=20, callbacks=[clr_triangular], verbose=0)"
   ]
  },
  {
   "cell_type": "code",
   "execution_count": null,
   "metadata": {},
   "outputs": [],
   "source": [
    "plt.plot(clr_triangular.history['iterations'], clr_triangular.history['lr'])\n"
   ]
  },
  {
   "cell_type": "code",
   "execution_count": null,
   "metadata": {},
   "outputs": [],
   "source": [
    "clr_triangular._reset(new_base_lr=0.003, new_max_lr=0.009)"
   ]
  },
  {
   "cell_type": "code",
   "execution_count": null,
   "metadata": {},
   "outputs": [],
   "source": [
    "model.fit(X, Y, batch_size=2000, nb_epoch=10, callbacks=[clr_triangular], verbose=0)"
   ]
  },
  {
   "cell_type": "code",
   "execution_count": null,
   "metadata": {},
   "outputs": [],
   "source": [
    "plt.plot(clr_triangular.history['iterations'], clr_triangular.history['lr'])\n"
   ]
  },
  {
   "cell_type": "code",
   "execution_count": null,
   "metadata": {},
   "outputs": [],
   "source": [
    "clr = lambda x: 0.5*(1+np.sin(x*np.pi/2.))"
   ]
  },
  {
   "cell_type": "code",
   "execution_count": null,
   "metadata": {},
   "outputs": [],
   "source": [
    "clr_triangular = CyclicLR(scale_fn=clr, scale_mode='cycle')\n",
    "\n",
    "model.compile(optimizer=Nadam(), loss='binary_crossentropy', metrics=['accuracy'])"
   ]
  },
  {
   "cell_type": "code",
   "execution_count": null,
   "metadata": {},
   "outputs": [],
   "source": [
    "model.fit(X, Y, batch_size=2000, nb_epoch=40, callbacks=[clr_triangular], verbose=0)"
   ]
  },
  {
   "cell_type": "code",
   "execution_count": null,
   "metadata": {},
   "outputs": [],
   "source": [
    "plt.plot(clr_triangular.history['iterations'], clr_triangular.history['lr'])\n"
   ]
  },
  {
   "cell_type": "code",
   "execution_count": null,
   "metadata": {},
   "outputs": [],
   "source": [
    "clr = lambda x: 1/(5**(x*0.0001))"
   ]
  },
  {
   "cell_type": "code",
   "execution_count": null,
   "metadata": {},
   "outputs": [],
   "source": [
    "clr_triangular = CyclicLR(scale_fn=clr, scale_mode='iterations')\n",
    "\n",
    "model.compile(optimizer=Nadam(), loss='binary_crossentropy', metrics=['accuracy'])"
   ]
  },
  {
   "cell_type": "code",
   "execution_count": null,
   "metadata": {
    "scrolled": true
   },
   "outputs": [],
   "source": [
    "model.fit(X, Y, batch_size=2000, nb_epoch=10, callbacks=[clr_triangular], verbose=0)"
   ]
  },
  {
   "cell_type": "code",
   "execution_count": null,
   "metadata": {},
   "outputs": [],
   "source": [
    "plt.plot(clr_triangular.history['iterations'], clr_triangular.history['lr'])\n"
   ]
  }
 ],
 "metadata": {
  "kernelspec": {
   "display_name": "Python 3",
   "language": "python",
   "name": "python3"
  },
  "language_info": {
   "codemirror_mode": {
    "name": "ipython",
    "version": 3
   },
   "file_extension": ".py",
   "mimetype": "text/x-python",
   "name": "python",
   "nbconvert_exporter": "python",
   "pygments_lexer": "ipython3",
   "version": "3.6.4"
  }
 },
 "nbformat": 4,
 "nbformat_minor": 2
}
